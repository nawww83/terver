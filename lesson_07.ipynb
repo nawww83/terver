{
 "cells": [
  {
   "cell_type": "markdown",
   "metadata": {},
   "source": [
    "## Урок 7"
   ]
  },
  {
   "cell_type": "markdown",
   "metadata": {},
   "source": [
    "### 1. Даны значения величины заработной платы заемщиков банка (zp) и значения их поведенческого кредитного скоринга (ks): zp = [35, 45, 190, 200, 40, 70, 54, 150, 120, 110], ks = [401, 574, 874, 919, 459, 739, 653, 902, 746, 832]. Используя математические операции, посчитать коэффициенты линейной регрессии, приняв за X заработную плату (то есть, zp - признак), а за y - значения скорингового балла (то есть, ks - целевая переменная). Произвести расчет как с использованием intercept, так и без."
   ]
  },
  {
   "cell_type": "code",
   "execution_count": 118,
   "metadata": {},
   "outputs": [],
   "source": [
    "import numpy as np\n",
    "import math"
   ]
  },
  {
   "cell_type": "code",
   "execution_count": 119,
   "metadata": {},
   "outputs": [],
   "source": [
    "zp = np.array([35, 45, 190, 200, 40, 70, 54, 150, 120, 110])\n",
    "ks = np.array([401, 574, 874, 919, 459, 739, 653, 902, 746, 832])"
   ]
  },
  {
   "cell_type": "code",
   "execution_count": 120,
   "metadata": {},
   "outputs": [
    {
     "data": {
      "text/plain": [
       "((10,), (10,))"
      ]
     },
     "execution_count": 120,
     "metadata": {},
     "output_type": "execute_result"
    }
   ],
   "source": [
    "zp.shape, ks.shape"
   ]
  },
  {
   "cell_type": "markdown",
   "metadata": {},
   "source": [
    "1. Вычислим коэффициенты линейной регрессии с учетом свободного члена (intercept)"
   ]
  },
  {
   "cell_type": "code",
   "execution_count": 121,
   "metadata": {},
   "outputs": [
    {
     "name": "stdout",
     "output_type": "stream",
     "text": [
      "2.620538882402765\n"
     ]
    }
   ],
   "source": [
    "k = (np.mean(zp * ks) - zp.mean() * ks.mean()) / (np.mean(zp**2) - zp.mean()**2)\n",
    "print(k)"
   ]
  },
  {
   "cell_type": "code",
   "execution_count": 122,
   "metadata": {},
   "outputs": [
    {
     "name": "stdout",
     "output_type": "stream",
     "text": [
      "444.1773573243596\n"
     ]
    }
   ],
   "source": [
    "b = ks.mean() - k * zp.mean()\n",
    "print(b)"
   ]
  },
  {
   "cell_type": "markdown",
   "metadata": {},
   "source": [
    "Построим соответствующие графики"
   ]
  },
  {
   "cell_type": "code",
   "execution_count": 123,
   "metadata": {},
   "outputs": [],
   "source": [
    "import matplotlib.pyplot as plt"
   ]
  },
  {
   "cell_type": "code",
   "execution_count": 124,
   "metadata": {},
   "outputs": [
    {
     "data": {
      "image/png": "[encoded data removed]",
      "text/plain": [
       "<Figure size 432x288 with 1 Axes>"
      ]
     },
     "metadata": {
      "needs_background": "light"
     },
     "output_type": "display_data"
    }
   ],
   "source": [
    "plt.scatter(zp, ks)\n",
    "plt.plot(zp, k * zp + b)\n",
    "plt.show()"
   ]
  },
  {
   "cell_type": "markdown",
   "metadata": {},
   "source": [
    "2. Вычислим угловой коэффициент $k$ без учета свободного члена $b$. Воспользуемся матричной формулой, потому что она универсальная. Формулу, однако, упростим, потому что обращение матрицы здесь вырождается в обращение скаляра. \n",
    "\n",
    "Сначала сформируем векторы-столбцы $X$ и $Y$"
   ]
  },
  {
   "cell_type": "code",
   "execution_count": 125,
   "metadata": {},
   "outputs": [],
   "source": [
    "x = zp.T"
   ]
  },
  {
   "cell_type": "code",
   "execution_count": 126,
   "metadata": {},
   "outputs": [],
   "source": [
    "y = ks.T"
   ]
  },
  {
   "cell_type": "markdown",
   "metadata": {},
   "source": [
    "Матричная формула для расчета вектора коэффициентов линейной регрессии $\\beta$"
   ]
  },
  {
   "cell_type": "markdown",
   "metadata": {},
   "source": [
    "$\\beta = {(X^T X)}^{-1} X^T Y $"
   ]
  },
  {
   "cell_type": "code",
   "execution_count": 127,
   "metadata": {},
   "outputs": [
    {
     "name": "stdout",
     "output_type": "stream",
     "text": [
      "5.889820420132689\n"
     ]
    }
   ],
   "source": [
    "k = np.dot(1 / np.dot(x.T, x) * x.T, y) \n",
    "print(k)"
   ]
  },
  {
   "cell_type": "markdown",
   "metadata": {},
   "source": [
    "### 2. Посчитать коэффициент линейной регрессии при заработной плате (zp), используя градиентный спуск (без intercept)."
   ]
  },
  {
   "cell_type": "code",
   "execution_count": 128,
   "metadata": {},
   "outputs": [
    {
     "name": "stdout",
     "output_type": "stream",
     "text": [
      "5.528075957233513\n",
      "1005\n"
     ]
    }
   ],
   "source": [
    "def mse(x, y, k):\n",
    "    return np.mean( (y - k * x) ** 2 )\n",
    "\n",
    "def d_mse_dk(x, y, k):\n",
    "    return np.mean( -2 * (y - k * x) * x )\n",
    "\n",
    "alpha = (10) ** (-7)\n",
    "tol = (10) ** (-3)\n",
    "\n",
    "k = 0.1\n",
    "counter = 0\n",
    "while (1):\n",
    "    delta = d_mse_dk(zp, ks, k) * alpha\n",
    "    k -= delta\n",
    "    counter += 1\n",
    "    if np.abs( delta ) < tol:\n",
    "        break\n",
    "\n",
    "print(k)\n",
    "print(counter)"
   ]
  },
  {
   "cell_type": "markdown",
   "metadata": {},
   "source": [
    "Почему градиентный спуск дает результат, значительно (я задал tol = 0.001) отличающийся от результата точных формул - не понятно... Видимо большой коэффициент $\\alpha$?"
   ]
  },
  {
   "cell_type": "markdown",
   "metadata": {},
   "source": [
    "### 4.  Произвести вычисления как в пункте 2, но с вычислением intercept. Учесть, что изменение коэффициентов должно производиться на каждом шаге одновременно (то есть изменение одного коэффициента не должно влиять на изменение другого во время одной итерации)."
   ]
  },
  {
   "cell_type": "code",
   "execution_count": 129,
   "metadata": {},
   "outputs": [
    {
     "name": "stdout",
     "output_type": "stream",
     "text": [
      "2.6770475427257874\n",
      "436.8786442038018\n",
      "27646\n"
     ]
    }
   ],
   "source": [
    "def mse(x, y, k, b):\n",
    "    return np.mean( (y - k * x - b) ** 2 )\n",
    "\n",
    "def d_mse_dk(x, y, k, b):\n",
    "    return np.mean( -2 * (y - k * x - b) * x )\n",
    "\n",
    "def d_mse_db(x, y, k, b):\n",
    "    return np.mean( -2 * (y - k * x - b) )\n",
    "\n",
    "alpha_k = (10) ** (-7)\n",
    "alpha_b = math.sqrt(alpha_k)\n",
    "tol = (10) ** (-3)\n",
    "\n",
    "k = 0.1\n",
    "b = 10.2\n",
    "counter = 0\n",
    "while (1):\n",
    "    delta_k = d_mse_dk(zp, ks, k, b) * alpha_k\n",
    "    delta_b = d_mse_db(zp, ks, k, b) * alpha_b\n",
    "    k -= delta_k\n",
    "    b -= delta_b\n",
    "    counter += 1\n",
    "    if np.abs(delta_k) + np.abs(delta_b) < tol:\n",
    "        break\n",
    "\n",
    "print(k)\n",
    "print(b)\n",
    "print(counter)"
   ]
  },
  {
   "cell_type": "markdown",
   "metadata": {},
   "source": [
    "### 3. В каких случаях для вычисления доверительных интервалов и проверки статистических гипотез используется таблица значений функции Лапласа, а в каких - таблица критических точек распределения Стьюдента?"
   ]
  },
  {
   "cell_type": "markdown",
   "metadata": {},
   "source": [
    "Не понял юмора, но если известна дисперсия генеральной совокупности, то используется таблица значений функции Лапласа; в противном случае - таблица Стьюдента."
   ]
  }
 ],
 "metadata": {
  "kernelspec": {
   "display_name": "Python 3",
   "language": "python",
   "name": "python3"
  },
  "language_info": {
   "codemirror_mode": {
    "name": "ipython",
    "version": 3
   },
   "file_extension": ".py",
   "mimetype": "text/x-python",
   "name": "python",
   "nbconvert_exporter": "python",
   "pygments_lexer": "ipython3",
   "version": "3.5.2"
  }
 },
 "nbformat": 4,
 "nbformat_minor": 2
}
