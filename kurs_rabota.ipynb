{
 "cells": [
  {
   "cell_type": "markdown",
   "metadata": {},
   "source": [
    "Курсовая работа на тему\n",
    "\n",
    "## Тест на нормальность шума радиолокационного приемника"
   ]
  },
  {
   "cell_type": "markdown",
   "metadata": {},
   "source": [
    "### 1. Введение"
   ]
  },
  {
   "cell_type": "markdown",
   "metadata": {},
   "source": [
    "Рассматривается радиолокационная станция (РЛС) с зондирующим импульсом в виде импульса с линейной частотной модуляцией (ЛЧМ). РЛС излучает ЛЧМ-импульс в диапазоне сверхвысокочастотных волн (СВЧ) с длиной волны 3 см.\n",
    "\n",
    "Радиолокационный приемник входит в состав РЛС и выполняет функцию приема радиолокационного сигнала в диапазоне СВЧ и его преобразования в низкочастотный дипазон, НЧ (в видеосигнал, содержащий информацию о радиолокационных целях). В рассматриваемом случае преобразование в НЧ диапазон происходит вместе со сжатием ЛЧМ-импульса. В итоге на выходе радиолокационного приемника формируется сигнал, состоящий из множества синусоид с разными амплитудами, частотами и начальными фазами, так, что информацию о радиолокационных целях несет амплитуда (квадрат которой пропорционален мощности отраженного от цели сигнала) и частота (которая пропорциональна расстоянию от РЛС до цели). В современных радиолокационных приемниках выходной НЧ сигнал оцифровывается и подается на процессор быстрого преобразования Фурье, на выходе которого формируется спектр {частота, амплитуда}. Таким образом, Фурье-процессор играет роль спектроанализатора. Набор частот и амплитуд отображается на индикаторах (кругового обзора, ИКО и типа \"А\", ИТА). Одной Фурье-обработке физически соответствует одно угловое положение (азимут) антенны РЛС, таким образом формируется так называемая развертка по дальности для некоторого азимутального угла. Вращая антенну и накапливая развертки по дальности, можно формировать радиолокационное изображение окружающего РЛС пространства.\n",
    "\n",
    "Если вместо ЛЧМ-импульса излучать однотональный сигнал (синусоиду), то на выходе радиолокационного приемника будет формироваться так называемый тепловой шум $n(t)$ (шум приемника). Выборки шума $n(t)$ в заданные моменты времени $t_i= i \\Delta t$, $i=0,1,2,3,...,$ $n_i = n(t_i)$ (отсчеты напряжения или тока) теоретически (из физики) должны иметь нормальное распределение, подтверждением чего мы и займемся."
   ]
  },
  {
   "cell_type": "markdown",
   "metadata": {},
   "source": [
    "### 2. Чтение данных"
   ]
  },
  {
   "cell_type": "markdown",
   "metadata": {},
   "source": [
    "На основании заранее записанных цифровых данных сформируем 10 шумовых реализий $n(t)$."
   ]
  },
  {
   "cell_type": "code",
   "execution_count": 103,
   "metadata": {},
   "outputs": [],
   "source": [
    "import struct\n",
    "import numpy as np\n",
    "\n",
    "fns = ['noise_000.dat', 'noise_001.dat', 'noise_002.dat', 'noise_003.dat', 'noise_004.dat', 'noise_005.dat', 'noise_006.dat', 'noise_007.dat', 'noise_008.dat', 'noise_009.dat']\n",
    "typeSize = struct.calcsize('d')\n",
    "\n",
    "data = np.zeros((3000,1))\n",
    "i = 0\n",
    "with open(fns[0], mode='rb') as file:\n",
    "    raw = file.read(typeSize)    \n",
    "    while raw:        \n",
    "        data[i] = struct.unpack('d', raw)[0]        \n",
    "        raw = file.read(typeSize)\n",
    "        i += 1"
   ]
  },
  {
   "cell_type": "code",
   "execution_count": 104,
   "metadata": {},
   "outputs": [],
   "source": [
    "import matplotlib.pyplot as plt"
   ]
  },
  {
   "cell_type": "code",
   "execution_count": 105,
   "metadata": {},
   "outputs": [
    {
     "data": {
      "text/plain": [
       "[<matplotlib.lines.Line2D at 0x13def5f8>]"
      ]
     },
     "execution_count": 105,
     "metadata": {},
     "output_type": "execute_result"
    },
    {
     "data": {
      "image/png": "[encoded data removed]",
      "text/plain": [
       "<Figure size 432x288 with 1 Axes>"
      ]
     },
     "metadata": {
      "needs_background": "light"
     },
     "output_type": "display_data"
    }
   ],
   "source": [
    "plt.plot(data)"
   ]
  },
  {
   "cell_type": "code",
   "execution_count": 106,
   "metadata": {},
   "outputs": [
    {
     "data": {
      "text/plain": [
       "(3000, 1)"
      ]
     },
     "execution_count": 106,
     "metadata": {},
     "output_type": "execute_result"
    }
   ],
   "source": [
    "data.shape"
   ]
  }
 ],
 "metadata": {
  "kernelspec": {
   "display_name": "Python 3",
   "language": "python",
   "name": "python3"
  },
  "language_info": {
   "codemirror_mode": {
    "name": "ipython",
    "version": 3
   },
   "file_extension": ".py",
   "mimetype": "text/x-python",
   "name": "python",
   "nbconvert_exporter": "python",
   "pygments_lexer": "ipython3",
   "version": "3.7.3"
  }
 },
 "nbformat": 4,
 "nbformat_minor": 2
}
